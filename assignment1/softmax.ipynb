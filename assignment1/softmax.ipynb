{
 "cells": [
  {
   "cell_type": "markdown",
   "metadata": {},
   "source": [
    "# Softmax exercise\n",
    "\n",
    "*Complete and hand in this completed worksheet (including its outputs and any supporting code outside of the worksheet) with your assignment submission. For more details see the [assignments page](http://vision.stanford.edu/teaching/cs231n/assignments.html) on the course website.*\n",
    "\n",
    "This exercise is analogous to the SVM exercise. You will:\n",
    "\n",
    "- implement a fully-vectorized **loss function** for the Softmax classifier\n",
    "- implement the fully-vectorized expression for its **analytic gradient**\n",
    "- **check your implementation** with numerical gradient\n",
    "- use a validation set to **tune the learning rate and regularization** strength\n",
    "- **optimize** the loss function with **SGD**\n",
    "- **visualize** the final learned weights\n"
   ]
  },
  {
   "cell_type": "code",
   "execution_count": 1,
   "metadata": {
    "collapsed": false
   },
   "outputs": [],
   "source": [
    "import random\n",
    "import numpy as np\n",
    "from cs231n.data_utils import load_CIFAR10\n",
    "import matplotlib.pyplot as plt\n",
    "\n",
    "from __future__ import print_function\n",
    "\n",
    "%matplotlib inline\n",
    "plt.rcParams['figure.figsize'] = (10.0, 8.0) # set default size of plots\n",
    "plt.rcParams['image.interpolation'] = 'nearest'\n",
    "plt.rcParams['image.cmap'] = 'gray'\n",
    "\n",
    "# for auto-reloading extenrnal modules\n",
    "# see http://stackoverflow.com/questions/1907993/autoreload-of-modules-in-ipython\n",
    "%load_ext autoreload\n",
    "%autoreload 2"
   ]
  },
  {
   "cell_type": "code",
   "execution_count": 2,
   "metadata": {
    "collapsed": false
   },
   "outputs": [
    {
     "name": "stdout",
     "output_type": "stream",
     "text": [
      "Train data shape:  (49000, 3073)\n",
      "Train labels shape:  (49000,)\n",
      "Validation data shape:  (1000, 3073)\n",
      "Validation labels shape:  (1000,)\n",
      "Test data shape:  (1000, 3073)\n",
      "Test labels shape:  (1000,)\n",
      "dev data shape:  (500, 3073)\n",
      "dev labels shape:  (500,)\n"
     ]
    }
   ],
   "source": [
    "def get_CIFAR10_data(num_training=49000, num_validation=1000, num_test=1000, num_dev=500):\n",
    "    \"\"\"\n",
    "    Load the CIFAR-10 dataset from disk and perform preprocessing to prepare\n",
    "    it for the linear classifier. These are the same steps as we used for the\n",
    "    SVM, but condensed to a single function.  \n",
    "    \"\"\"\n",
    "    # Load the raw CIFAR-10 data\n",
    "    cifar10_dir = 'cs231n/datasets/cifar-10-batches-py'\n",
    "    X_train, y_train, X_test, y_test = load_CIFAR10(cifar10_dir)\n",
    "    \n",
    "    # subsample the data\n",
    "    mask = list(range(num_training, num_training + num_validation))\n",
    "    X_val = X_train[mask]\n",
    "    y_val = y_train[mask]\n",
    "    mask = list(range(num_training))\n",
    "    X_train = X_train[mask]\n",
    "    y_train = y_train[mask]\n",
    "    mask = list(range(num_test))\n",
    "    X_test = X_test[mask]\n",
    "    y_test = y_test[mask]\n",
    "    mask = np.random.choice(num_training, num_dev, replace=False)\n",
    "    X_dev = X_train[mask]\n",
    "    y_dev = y_train[mask]\n",
    "    \n",
    "    # Preprocessing: reshape the image data into rows\n",
    "    X_train = np.reshape(X_train, (X_train.shape[0], -1))\n",
    "    X_val = np.reshape(X_val, (X_val.shape[0], -1))\n",
    "    X_test = np.reshape(X_test, (X_test.shape[0], -1))\n",
    "    X_dev = np.reshape(X_dev, (X_dev.shape[0], -1))\n",
    "    \n",
    "    # Normalize the data: subtract the mean image\n",
    "    mean_image = np.mean(X_train, axis = 0)\n",
    "    X_train -= mean_image\n",
    "    X_val -= mean_image\n",
    "    X_test -= mean_image\n",
    "    X_dev -= mean_image\n",
    "    \n",
    "    # add bias dimension and transform into columns\n",
    "    X_train = np.hstack([X_train, np.ones((X_train.shape[0], 1))])\n",
    "    X_val = np.hstack([X_val, np.ones((X_val.shape[0], 1))])\n",
    "    X_test = np.hstack([X_test, np.ones((X_test.shape[0], 1))])\n",
    "    X_dev = np.hstack([X_dev, np.ones((X_dev.shape[0], 1))])\n",
    "    \n",
    "    return X_train, y_train, X_val, y_val, X_test, y_test, X_dev, y_dev\n",
    "\n",
    "\n",
    "# Invoke the above function to get our data.\n",
    "X_train, y_train, X_val, y_val, X_test, y_test, X_dev, y_dev = get_CIFAR10_data()\n",
    "print('Train data shape: ', X_train.shape)\n",
    "print('Train labels shape: ', y_train.shape)\n",
    "print('Validation data shape: ', X_val.shape)\n",
    "print('Validation labels shape: ', y_val.shape)\n",
    "print('Test data shape: ', X_test.shape)\n",
    "print('Test labels shape: ', y_test.shape)\n",
    "print('dev data shape: ', X_dev.shape)\n",
    "print('dev labels shape: ', y_dev.shape)"
   ]
  },
  {
   "cell_type": "markdown",
   "metadata": {},
   "source": [
    "## Softmax Classifier\n",
    "\n",
    "Your code for this section will all be written inside **cs231n/classifiers/softmax.py**. \n"
   ]
  },
  {
   "cell_type": "code",
   "execution_count": 12,
   "metadata": {
    "collapsed": false,
    "scrolled": false
   },
   "outputs": [
    {
     "name": "stdout",
     "output_type": "stream",
     "text": [
      "loss: 2.318380\n",
      "sanity check: 2.302585\n"
     ]
    }
   ],
   "source": [
    "# First implement the naive softmax loss function with nested loops.\n",
    "# Open the file cs231n/classifiers/softmax.py and implement the\n",
    "# softmax_loss_naive function.\n",
    "\n",
    "from cs231n.classifiers.softmax import softmax_loss_naive\n",
    "import time\n",
    "\n",
    "# Generate a random softmax weight matrix and use it to compute the loss.\n",
    "W = np.random.randn(3073, 10) * 0.0001\n",
    "loss, grad = softmax_loss_naive(W, X_dev, y_dev, 0.0)\n",
    "\n",
    "# As a rough sanity check, our loss should be something close to -log(0.1).\n",
    "print('loss: %f' % loss)\n",
    "print('sanity check: %f' % (-np.log(0.1)))"
   ]
  },
  {
   "cell_type": "markdown",
   "metadata": {},
   "source": [
    "## Analytical Gradient Of the Softmax Function\n",
    "#### -- Shuo\n",
    "\n",
    "\n",
    "For a single input sample, the loss functions of softmax is given by (the second version is easier for derivatives)\n",
    "$$\n",
    "L_i = -log\\big[\n",
    "\\frac\n",
    "{exp(\\textbf{w}_{y_i}^T \\textbf{x}_i)}\n",
    "{\\sum_j exp(\\textbf{w}_j^T \\textbf{x}_i)}\n",
    "\\big]\\\\\n",
    "= -\\textbf{w}_{y_i}^T \\textbf{x}_i + log\\big[ \\sum_j exp(\\textbf{w}_j^T \\textbf{x}_i) \\big]\n",
    "$$\n",
    "\n",
    "$$\n",
    "\\frac{\\partial L_i}{\\partial \\textbf{w}_{j}} = \n",
    "\\big[\n",
    "- \\mathbb{1}(j=Y_i) + \n",
    "\\frac {exp(\\textbf{w}_j^T \\textbf{x}_i)} {\\sum_j exp(\\textbf{w}_j^T \\textbf{x}_i)}\n",
    "\\big] \\textbf{x}_i \\\\\n",
    "$$\n",
    "\n",
    "Final loss over all samples,\n",
    "$$\n",
    "Loss = \\frac{1}{N}\\sum_{i = 1,.., N} L_i + \\lambda \\textbf{W}^2\n",
    "$$\n",
    "\n",
    "Final Gradient:\n",
    "$$\n",
    "\\frac{\\partial L}{\\partial \\textbf{w}_{j}} = \\frac{1}{N}\\sum_{i = 1,.., N} \n",
    "\\big[\n",
    "- \\mathbb{1}(j=Y_i) + \n",
    "\\frac {exp(\\textbf{w}_j^T \\textbf{x}_i)} {\\sum_j exp(\\textbf{w}_j^T \\textbf{x}_i)} \\big] \\textbf{x}_i\n",
    "+ 2\\lambda \\textbf{w}_j\\\\\n",
    "$$"
   ]
  },
  {
   "cell_type": "markdown",
   "metadata": {},
   "source": [
    "## Inline Question 1:\n",
    "Why do we expect our loss to be close to -log(0.1)? Explain briefly.**\n",
    "\n",
    "**Your answer:** \n",
    "\n",
    "Random weights are used and they're likely to generate equal distributed score for all classes. So the probability term within the log function should be 1 over 10 (10 classes), and the average overall loss should be close -log(0.1), with no regularization term (reg is set to 0.0)\n"
   ]
  },
  {
   "cell_type": "code",
   "execution_count": 11,
   "metadata": {
    "collapsed": false
   },
   "outputs": [
    {
     "name": "stdout",
     "output_type": "stream",
     "text": [
      "=== No regularization ===\n",
      "numerical: 0.488031 analytic: 0.488031, relative error: 6.562591e-08\n",
      "numerical: 3.376626 analytic: 3.376626, relative error: 7.706301e-09\n",
      "numerical: 0.115873 analytic: 0.115873, relative error: 2.658684e-07\n",
      "numerical: -1.675333 analytic: -1.675333, relative error: 3.655072e-09\n",
      "numerical: 0.976034 analytic: 0.976034, relative error: 2.472565e-09\n",
      "numerical: 0.684574 analytic: 0.684574, relative error: 1.897230e-08\n",
      "numerical: -3.978993 analytic: -3.978993, relative error: 3.633778e-09\n",
      "numerical: 1.814203 analytic: 1.814203, relative error: 2.522084e-08\n",
      "numerical: 1.201000 analytic: 1.201000, relative error: 1.296890e-08\n",
      "numerical: 3.807483 analytic: 3.807483, relative error: 9.335429e-09\n",
      "=== Regularization ===\n",
      "numerical: 3.942302 analytic: 3.942302, relative error: 3.471357e-10\n",
      "numerical: 0.673092 analytic: 0.673092, relative error: 1.742339e-09\n",
      "numerical: 3.083128 analytic: 3.083128, relative error: 1.068551e-09\n",
      "numerical: 1.453914 analytic: 1.453914, relative error: 4.874069e-09\n",
      "numerical: 0.038230 analytic: 0.038230, relative error: 6.368558e-07\n",
      "numerical: -6.136797 analytic: -6.136797, relative error: 9.374533e-09\n",
      "numerical: -2.083072 analytic: -2.083072, relative error: 1.303672e-08\n",
      "numerical: 0.100514 analytic: 0.100514, relative error: 9.995954e-08\n",
      "numerical: 1.760602 analytic: 1.760602, relative error: 2.997132e-08\n",
      "numerical: -1.397369 analytic: -1.397368, relative error: 2.042634e-09\n"
     ]
    }
   ],
   "source": [
    "# Complete the implementation of softmax_loss_naive and implement a (naive)\n",
    "# version of the gradient that uses nested loops.\n",
    "loss, grad = softmax_loss_naive(W, X_dev, y_dev, 0.0)\n",
    "\n",
    "# As we did for the SVM, use numeric gradient checking as a debugging tool.\n",
    "# The numeric gradient should be close to the analytic gradient.\n",
    "from cs231n.gradient_check import grad_check_sparse\n",
    "\n",
    "print('=== No regularization ===')\n",
    "f = lambda w: softmax_loss_naive(w, X_dev, y_dev, 0.0)[0]\n",
    "grad_numerical = grad_check_sparse(f, W, grad, 10)\n",
    "\n",
    "# similar to SVM case, do another gradient check with regularization\n",
    "\n",
    "print('=== Regularization ===')\n",
    "\n",
    "loss, grad = softmax_loss_naive(W, X_dev, y_dev, 5e1)\n",
    "f = lambda w: softmax_loss_naive(w, X_dev, y_dev, 5e1)[0]\n",
    "grad_numerical = grad_check_sparse(f, W, grad, 10)"
   ]
  },
  {
   "cell_type": "code",
   "execution_count": 16,
   "metadata": {
    "collapsed": false
   },
   "outputs": [
    {
     "name": "stdout",
     "output_type": "stream",
     "text": [
      "naive loss: 2.318380e+00 computed in 0.068784s\n",
      "vectorized loss: 2.318380e+00 computed in 0.010969s\n",
      "Loss difference: 0.000000\n",
      "Gradient difference: 0.000000\n"
     ]
    }
   ],
   "source": [
    "# Now that we have a naive implementation of the softmax loss function and its gradient,\n",
    "# implement a vectorized version in softmax_loss_vectorized.\n",
    "# The two versions should compute the same results, but the vectorized version should be\n",
    "# much faster.\n",
    "tic = time.time()\n",
    "loss_naive, grad_naive = softmax_loss_naive(W, X_dev, y_dev, 0.000005)\n",
    "toc = time.time()\n",
    "print('naive loss: %e computed in %fs' % (loss_naive, toc - tic))\n",
    "\n",
    "from cs231n.classifiers.softmax import softmax_loss_vectorized\n",
    "tic = time.time()\n",
    "loss_vectorized, grad_vectorized = softmax_loss_vectorized(W, X_dev, y_dev, 0.000005)\n",
    "toc = time.time()\n",
    "print('vectorized loss: %e computed in %fs' % (loss_vectorized, toc - tic))\n",
    "\n",
    "# As we did for the SVM, we use the Frobenius norm to compare the two versions\n",
    "# of the gradient.\n",
    "grad_difference = np.linalg.norm(grad_naive - grad_vectorized, ord='fro')\n",
    "print('Loss difference: %f' % np.abs(loss_naive - loss_vectorized))\n",
    "print('Gradient difference: %f' % grad_difference)"
   ]
  },
  {
   "cell_type": "code",
   "execution_count": 19,
   "metadata": {
    "collapsed": false
   },
   "outputs": [
    {
     "name": "stdout",
     "output_type": "stream",
     "text": [
      "step = 1.000000e-07, regulartion = 2.500000e+04\n",
      "iteration 0 / 1000: loss 769.043282\n",
      "iteration 100 / 1000: loss 282.138535\n",
      "iteration 200 / 1000: loss 104.642169\n",
      "iteration 300 / 1000: loss 39.622009\n",
      "iteration 400 / 1000: loss 15.844948\n",
      "iteration 500 / 1000: loss 7.117549\n",
      "iteration 600 / 1000: loss 3.874473\n",
      "iteration 700 / 1000: loss 2.755273\n",
      "iteration 800 / 1000: loss 2.388975\n",
      "iteration 900 / 1000: loss 2.145548\n",
      "step = 1.000000e-07, regulartion = 3.333333e+04\n",
      "iteration 0 / 1000: loss 1025.974141\n",
      "iteration 100 / 1000: loss 269.922189\n",
      "iteration 200 / 1000: loss 72.239529\n",
      "iteration 300 / 1000: loss 20.469995\n",
      "iteration 400 / 1000: loss 6.929168\n",
      "iteration 500 / 1000: loss 3.412038\n",
      "iteration 600 / 1000: loss 2.417615\n",
      "iteration 700 / 1000: loss 2.133764\n",
      "iteration 800 / 1000: loss 2.101862\n",
      "iteration 900 / 1000: loss 2.087720\n",
      "step = 1.000000e-07, regulartion = 4.166667e+04\n",
      "iteration 0 / 1000: loss 1274.482937\n",
      "iteration 100 / 1000: loss 239.995137\n",
      "iteration 200 / 1000: loss 46.613780\n",
      "iteration 300 / 1000: loss 10.483157\n",
      "iteration 400 / 1000: loss 3.710055\n",
      "iteration 500 / 1000: loss 2.419666\n",
      "iteration 600 / 1000: loss 2.149470\n",
      "iteration 700 / 1000: loss 2.179858\n",
      "iteration 800 / 1000: loss 2.147377\n",
      "iteration 900 / 1000: loss 2.145042\n",
      "step = 1.000000e-07, regulartion = 5.000000e+04\n",
      "iteration 0 / 1000: loss 1542.005712\n",
      "iteration 100 / 1000: loss 207.568288\n",
      "iteration 200 / 1000: loss 29.608704\n",
      "iteration 300 / 1000: loss 5.825196\n",
      "iteration 400 / 1000: loss 2.623040\n",
      "iteration 500 / 1000: loss 2.220851\n",
      "iteration 600 / 1000: loss 2.148651\n",
      "iteration 700 / 1000: loss 2.139270\n",
      "iteration 800 / 1000: loss 2.163076\n",
      "iteration 900 / 1000: loss 2.113451\n",
      "step = 3.000000e-07, regulartion = 2.500000e+04\n",
      "iteration 0 / 1000: loss 774.068976\n",
      "iteration 100 / 1000: loss 39.324535\n",
      "iteration 200 / 1000: loss 3.832974\n",
      "iteration 300 / 1000: loss 2.152618\n",
      "iteration 400 / 1000: loss 2.045696\n",
      "iteration 500 / 1000: loss 2.080319\n",
      "iteration 600 / 1000: loss 2.083195\n",
      "iteration 700 / 1000: loss 2.020406\n",
      "iteration 800 / 1000: loss 2.074970\n",
      "iteration 900 / 1000: loss 2.092552\n",
      "step = 3.000000e-07, regulartion = 3.333333e+04\n",
      "iteration 0 / 1000: loss 1020.950685\n",
      "iteration 100 / 1000: loss 19.862166\n",
      "iteration 200 / 1000: loss 2.349882\n",
      "iteration 300 / 1000: loss 2.150462\n",
      "iteration 400 / 1000: loss 2.099115\n",
      "iteration 500 / 1000: loss 2.116202\n",
      "iteration 600 / 1000: loss 2.080360\n",
      "iteration 700 / 1000: loss 2.125698\n",
      "iteration 800 / 1000: loss 2.109217\n",
      "iteration 900 / 1000: loss 2.107860\n",
      "step = 3.000000e-07, regulartion = 4.166667e+04\n",
      "iteration 0 / 1000: loss 1298.011419\n",
      "iteration 100 / 1000: loss 10.260911\n",
      "iteration 200 / 1000: loss 2.167568\n",
      "iteration 300 / 1000: loss 2.137279\n",
      "iteration 400 / 1000: loss 2.100493\n",
      "iteration 500 / 1000: loss 2.159227\n",
      "iteration 600 / 1000: loss 2.141569\n",
      "iteration 700 / 1000: loss 2.125742\n",
      "iteration 800 / 1000: loss 2.160368\n",
      "iteration 900 / 1000: loss 2.196384\n",
      "step = 3.000000e-07, regulartion = 5.000000e+04\n",
      "iteration 0 / 1000: loss 1529.880781\n",
      "iteration 100 / 1000: loss 5.541698\n",
      "iteration 200 / 1000: loss 2.130657\n",
      "iteration 300 / 1000: loss 2.180683\n",
      "iteration 400 / 1000: loss 2.145564\n",
      "iteration 500 / 1000: loss 2.164290\n",
      "iteration 600 / 1000: loss 2.153886\n",
      "iteration 700 / 1000: loss 2.147644\n",
      "iteration 800 / 1000: loss 2.179552\n",
      "iteration 900 / 1000: loss 2.172034\n",
      "step = 5.000000e-07, regulartion = 2.500000e+04\n",
      "iteration 0 / 1000: loss 776.029304\n",
      "iteration 100 / 1000: loss 6.862840\n",
      "iteration 200 / 1000: loss 2.069552\n",
      "iteration 300 / 1000: loss 2.101288\n",
      "iteration 400 / 1000: loss 2.158586\n",
      "iteration 500 / 1000: loss 2.102808\n",
      "iteration 600 / 1000: loss 2.130962\n",
      "iteration 700 / 1000: loss 2.066684\n",
      "iteration 800 / 1000: loss 2.083609\n",
      "iteration 900 / 1000: loss 2.083226\n",
      "step = 5.000000e-07, regulartion = 3.333333e+04\n",
      "iteration 0 / 1000: loss 1011.105358\n",
      "iteration 100 / 1000: loss 3.240147\n",
      "iteration 200 / 1000: loss 2.100204\n",
      "iteration 300 / 1000: loss 2.116639\n",
      "iteration 400 / 1000: loss 2.086873\n",
      "iteration 500 / 1000: loss 2.179795\n",
      "iteration 600 / 1000: loss 2.096094\n",
      "iteration 700 / 1000: loss 2.117693\n",
      "iteration 800 / 1000: loss 2.142596\n",
      "iteration 900 / 1000: loss 2.112364\n",
      "step = 5.000000e-07, regulartion = 4.166667e+04\n",
      "iteration 0 / 1000: loss 1277.061206\n",
      "iteration 100 / 1000: loss 2.377249\n",
      "iteration 200 / 1000: loss 2.175731\n",
      "iteration 300 / 1000: loss 2.133381\n",
      "iteration 400 / 1000: loss 2.135024\n",
      "iteration 500 / 1000: loss 2.137049\n",
      "iteration 600 / 1000: loss 2.183050\n",
      "iteration 700 / 1000: loss 2.167862\n",
      "iteration 800 / 1000: loss 2.129720\n",
      "iteration 900 / 1000: loss 2.120619\n",
      "step = 5.000000e-07, regulartion = 5.000000e+04\n",
      "iteration 0 / 1000: loss 1541.745697\n",
      "iteration 100 / 1000: loss 2.196331\n",
      "iteration 200 / 1000: loss 2.129599\n",
      "iteration 300 / 1000: loss 2.171264\n",
      "iteration 400 / 1000: loss 2.149343\n",
      "iteration 500 / 1000: loss 2.197233\n",
      "iteration 600 / 1000: loss 2.108238\n",
      "iteration 700 / 1000: loss 2.145087\n",
      "iteration 800 / 1000: loss 2.162230\n",
      "iteration 900 / 1000: loss 2.152403\n",
      "lr 1.000000e-07 reg 2.500000e+04 train accuracy: 0.327327 val accuracy: 0.342000\n",
      "lr 1.000000e-07 reg 3.333333e+04 train accuracy: 0.320184 val accuracy: 0.337000\n",
      "lr 1.000000e-07 reg 4.166667e+04 train accuracy: 0.312755 val accuracy: 0.323000\n",
      "lr 1.000000e-07 reg 5.000000e+04 train accuracy: 0.312041 val accuracy: 0.326000\n",
      "lr 3.000000e-07 reg 2.500000e+04 train accuracy: 0.327265 val accuracy: 0.350000\n",
      "lr 3.000000e-07 reg 3.333333e+04 train accuracy: 0.315408 val accuracy: 0.332000\n",
      "lr 3.000000e-07 reg 4.166667e+04 train accuracy: 0.303082 val accuracy: 0.317000\n",
      "lr 3.000000e-07 reg 5.000000e+04 train accuracy: 0.318592 val accuracy: 0.340000\n",
      "lr 5.000000e-07 reg 2.500000e+04 train accuracy: 0.320245 val accuracy: 0.333000\n",
      "lr 5.000000e-07 reg 3.333333e+04 train accuracy: 0.319898 val accuracy: 0.321000\n",
      "lr 5.000000e-07 reg 4.166667e+04 train accuracy: 0.301388 val accuracy: 0.324000\n",
      "lr 5.000000e-07 reg 5.000000e+04 train accuracy: 0.294408 val accuracy: 0.310000\n",
      "best validation accuracy achieved during cross-validation: 0.350000\n"
     ]
    }
   ],
   "source": [
    "# Use the validation set to tune hyperparameters (regularization strength and\n",
    "# learning rate). You should experiment with different ranges for the learning\n",
    "# rates and regularization strengths; if you are careful you should be able to\n",
    "# get a classification accuracy of over 0.35 on the validation set.\n",
    "from cs231n.classifiers.linear_classifier import Softmax\n",
    "results = {}\n",
    "best_val = -1\n",
    "best_softmax = None\n",
    "learning_rates = [1e-7, 5e-7]\n",
    "regularization_strengths = [2.5e4, 5e4]\n",
    "\n",
    "################################################################################\n",
    "# TODO:                                                                        #\n",
    "# Use the validation set to set the learning rate and regularization strength. #\n",
    "# This should be identical to the validation that you did for the SVM; save    #\n",
    "# the best trained softmax classifer in best_softmax.                          #\n",
    "################################################################################\n",
    "for LR in np.linspace(learning_rates[0], learning_rates[1], 3):\n",
    "    for REG in np.linspace(regularization_strengths[0], regularization_strengths[1], 4):\n",
    "        print('step = %e, regulartion = %e' % (LR, REG))\n",
    "        \n",
    "        softmaxClassifier = Softmax()\n",
    "        loss_hist = softmaxClassifier.train(X_train, y_train, LR, REG, num_iters=1000, verbose=True)\n",
    "        \n",
    "        y_train_pred = softmaxClassifier.predict(X_train)\n",
    "        y_val_pred = softmaxClassifier.predict(X_val)\n",
    "        \n",
    "        train_accuracy = np.mean(y_train == y_train_pred)\n",
    "        vald_accuracy = np.mean(y_val == y_val_pred)\n",
    "        \n",
    "        results[(LR, REG)] = (train_accuracy, vald_accuracy)\n",
    "        \n",
    "        if vald_accuracy > best_val:\n",
    "            best_val = vald_accuracy\n",
    "            best_softmax = softmaxClassifier\n",
    "            \n",
    "################################################################################\n",
    "#                              END OF YOUR CODE                                #\n",
    "################################################################################\n",
    "    \n",
    "#     lr 3.000000e-07 reg 2.500000e+04 train accuracy: 0.327265 val accuracy: 0.350000\n",
    "\n",
    "# Print out results.\n",
    "for lr, reg in sorted(results):\n",
    "    train_accuracy, val_accuracy = results[(lr, reg)]\n",
    "    print('lr %e reg %e train accuracy: %f val accuracy: %f' % (\n",
    "                lr, reg, train_accuracy, val_accuracy))\n",
    "    \n",
    "print('best validation accuracy achieved during cross-validation: %f' % best_val)"
   ]
  },
  {
   "cell_type": "code",
   "execution_count": 20,
   "metadata": {
    "collapsed": false
   },
   "outputs": [
    {
     "name": "stdout",
     "output_type": "stream",
     "text": [
      "softmax on raw pixels final test set accuracy: 0.336000\n"
     ]
    }
   ],
   "source": [
    "# evaluate on test set\n",
    "# Evaluate the best softmax on test set\n",
    "y_test_pred = best_softmax.predict(X_test)\n",
    "test_accuracy = np.mean(y_test == y_test_pred)\n",
    "print('softmax on raw pixels final test set accuracy: %f' % (test_accuracy, ))"
   ]
  },
  {
   "cell_type": "code",
   "execution_count": 21,
   "metadata": {
    "collapsed": false,
    "scrolled": true
   },
   "outputs": [
    {
     "data": {
      "image/png": "[encoded data removed]",
      "text/plain": [
       "<matplotlib.figure.Figure at 0x7eff9c7d5750>"
      ]
     },
     "metadata": {},
     "output_type": "display_data"
    }
   ],
   "source": [
    "# Visualize the learned weights for each class\n",
    "w = best_softmax.W[:-1,:] # strip out the bias\n",
    "w = w.reshape(32, 32, 3, 10)\n",
    "\n",
    "w_min, w_max = np.min(w), np.max(w)\n",
    "\n",
    "classes = ['plane', 'car', 'bird', 'cat', 'deer', 'dog', 'frog', 'horse', 'ship', 'truck']\n",
    "for i in range(10):\n",
    "    plt.subplot(2, 5, i + 1)\n",
    "    \n",
    "    # Rescale the weights to be between 0 and 255\n",
    "    wimg = 255.0 * (w[:, :, :, i].squeeze() - w_min) / (w_max - w_min)\n",
    "    plt.imshow(wimg.astype('uint8'))\n",
    "    plt.axis('off')\n",
    "    plt.title(classes[i])"
   ]
  },
  {
   "cell_type": "markdown",
   "metadata": {},
   "source": [
    "The weights of softmax has clearer boundaries comparing to SVM, however the accuracy is about 5% lower than SVM."
   ]
  },
  {
   "cell_type": "code",
   "execution_count": null,
   "metadata": {
    "collapsed": true
   },
   "outputs": [],
   "source": []
  }
 ],
 "metadata": {
  "kernelspec": {
   "display_name": "Python 2",
   "language": "python",
   "name": "python2"
  },
  "language_info": {
   "codemirror_mode": {
    "name": "ipython",
    "version": 2
   },
   "file_extension": ".py",
   "mimetype": "text/x-python",
   "name": "python",
   "nbconvert_exporter": "python",
   "pygments_lexer": "ipython2",
   "version": "2.7.12"
  }
 },
 "nbformat": 4,
 "nbformat_minor": 0
}
